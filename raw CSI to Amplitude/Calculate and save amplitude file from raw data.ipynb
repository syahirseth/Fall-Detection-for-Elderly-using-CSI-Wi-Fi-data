{
 "cells": [
  {
   "cell_type": "code",
   "execution_count": 2,
   "id": "5d4feb61",
   "metadata": {},
   "outputs": [],
   "source": [
    "# Import ESP32 CSI Parser to read CSI data collected using 'ESP32 CSI toolkit'\n",
    "import csiparser\n",
    "\n",
    "# Import Matplotlib to plot amplitude and phase from CSI data\n",
    "%matplotlib inline\n",
    "import matplotlib.pyplot as plt\n",
    "\n",
    "# Import Numpy for scalling plot axis\n",
    "import numpy as np\n",
    "import pandas as pd"
   ]
  },
  {
   "cell_type": "markdown",
   "id": "f24ce359",
   "metadata": {},
   "source": [
    "## Read Example CSI and Retrive Amplitude and Phase Information\n",
    "\n",
    "This example CSI file depicts the distortion in amplitude and phase shift when a user walks between a pair of ESP32 devices."
   ]
  },
  {
   "cell_type": "code",
   "execution_count": 7,
   "id": "3aec1328",
   "metadata": {
    "scrolled": true
   },
   "outputs": [],
   "source": [
    "# Using the ESP32 CSI parser we perform the following,\n",
    "# 1. Read the example CSI file as Pandas Dataframe\n",
    "# 2. Filter signals by High Throughput (HT) 40 Mhz (1 - HT and 0 - Non-HT)\n",
    "# 3. Parse CSI string to Numpy Array\n",
    "# 4. Remove NULL Subcarriers (view README.md for more information)\n",
    "# 5. Calculate Amplitude and Phase from CSI\n",
    "example_csi = (\n",
    "    csiparser.ESP32(\"C:/Users/PC/data/walkzaki10.csv\")\n",
    "             .filter_by_sig_mode(1)\n",
    "             .get_csi()\n",
    "             .remove_null_subcarriers()\n",
    "             .get_amplitude_from_csi()\n",
    "             .get_phase_from_csi()\n",
    ")\n",
    "\n",
    "# Retrive amplitude and phase\n",
    "amplitude_clean = example_csi.amplitude\n",
    "phase_clean = example_csi.phase"
   ]
  },
  {
   "cell_type": "code",
   "execution_count": 333,
   "id": "fa4e86ca",
   "metadata": {},
   "outputs": [],
   "source": [
    "#save the file that contain calculated amplitude\n",
    "np.savetxt(\"cWZ10.csv\", amplitude_clean, delimiter=\",\")"
   ]
  },
  {
   "cell_type": "code",
   "execution_count": null,
   "id": "55236acc",
   "metadata": {},
   "outputs": [],
   "source": []
  },
  {
   "cell_type": "code",
   "execution_count": null,
   "id": "c4a90467",
   "metadata": {},
   "outputs": [],
   "source": []
  }
 ],
 "metadata": {
  "interpreter": {
   "hash": "06eb30afd4d1893551f0c8754b2249d9c64cea94e273e68296a6d13bd9afb13e"
  },
  "kernelspec": {
   "display_name": "Python 3 (ipykernel)",
   "language": "python",
   "name": "python3"
  },
  "language_info": {
   "codemirror_mode": {
    "name": "ipython",
    "version": 3
   },
   "file_extension": ".py",
   "mimetype": "text/x-python",
   "name": "python",
   "nbconvert_exporter": "python",
   "pygments_lexer": "ipython3",
   "version": "3.9.7"
  }
 },
 "nbformat": 4,
 "nbformat_minor": 5
}
