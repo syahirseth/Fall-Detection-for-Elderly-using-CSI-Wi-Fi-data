{
 "cells": [
  {
   "cell_type": "code",
   "execution_count": 1,
   "id": "aac6a02b",
   "metadata": {},
   "outputs": [],
   "source": [
    "import pandas as pd\n",
    "import numpy as np"
   ]
  },
  {
   "cell_type": "code",
   "execution_count": 2,
   "id": "d35604e4",
   "metadata": {},
   "outputs": [],
   "source": [
    "arr = np.loadtxt(\"C:/Users/PC/data/clean data/acctest.csv\",\n",
    "                 delimiter=\",\", dtype=float)"
   ]
  },
  {
   "cell_type": "code",
   "execution_count": 3,
   "id": "8ab841c2",
   "metadata": {},
   "outputs": [
    {
     "name": "stdout",
     "output_type": "stream",
     "text": [
      "(40,)\n"
     ]
    }
   ],
   "source": [
    "maxx=np.max(arr, axis=1)\n",
    "print(maxx.shape)"
   ]
  },
  {
   "cell_type": "code",
   "execution_count": 42,
   "id": "09a0c135",
   "metadata": {},
   "outputs": [
    {
     "name": "stdout",
     "output_type": "stream",
     "text": [
      "0 This is fall file, If/Else predict as fall\n",
      "1 This is fall file, If/Else predict as fall\n",
      "2 This is fall file, If/Else predict as fall\n",
      "3 This is fall file, If/Else predict as walk\n",
      "4 This is fall file, If/Else predict as fall\n",
      "5 This is fall file, If/Else predict as fall\n",
      "6 This is fall file, If/Else predict as fall\n",
      "7 This is fall file, If/Else predict as fall\n",
      "8 This is fall file, If/Else predict as fall\n",
      "9 This is fall file, If/Else predict as fall\n",
      "10 This is fall file, If/Else predict as fall\n",
      "11 This is fall file, If/Else predict as fall\n",
      "12 This is fall file, If/Else predict as fall\n",
      "13 This is fall file, If/Else predict as fall\n",
      "14 This is fall file, If/Else predict as fall\n",
      "15 This is fall file, If/Else predict as fall\n",
      "16 This is fall file, If/Else predict as fall\n",
      "17 This is fall file, If/Else predict as fall\n",
      "18 This is fall file, If/Else predict as fall\n",
      "19 This is fall file, If/Else predict as fall\n",
      "20 This is walk file, If/Else predict as walk\n",
      "21 This is walk file, If/Else predict as walk\n",
      "22 This is walk file, If/Else predict as walk\n",
      "23 This is walk file, If/Else predict as walk\n",
      "24 This is walk file, If/Else predict as walk\n",
      "25 This is walk file, If/Else predict as walk\n",
      "26 This is walk file, If/Else predict as walk\n",
      "27 This is walk file, If/Else predict as walk\n",
      "28 This is walk file, If/Else predict as walk\n",
      "29 This is walk file, If/Else predict as walk\n",
      "30 This is walk file, If/Else predict as walk\n",
      "31 This is walk file, If/Else predict as walk\n",
      "32 This is walk file, If/Else predict as walk\n",
      "33 This is walk file, If/Else predict as walk\n",
      "34 This is walk file, If/Else predict as walk\n",
      "35 This is walk file, If/Else predict as walk\n",
      "36 This is walk file, If/Else predict as walk\n",
      "37 This is walk file, If/Else predict as walk\n",
      "38 This is walk file, If/Else predict as walk\n",
      "39 This is walk file, If/Else predict as walk\n"
     ]
    }
   ],
   "source": [
    "i=0\n",
    "while i<40:\n",
    "    #t = threshold\n",
    "    t=36.7\n",
    "\n",
    "    if maxx[i] > t:\n",
    "        \n",
    "            if i<20:\n",
    "                x= \"fall\"\n",
    "            else:\n",
    "                x= \"walk\"\n",
    "            \n",
    "            print(f\"{i} This is {x} file, If/Else predict as fall\") \n",
    "        \n",
    "    else:\n",
    "        \n",
    "            if i<20:\n",
    "                x= \"fall\"\n",
    "            else:\n",
    "                x= \"walk\"\n",
    "       \n",
    "            print(f\"{i} This is {x} file, If/Else predict as walk\")  \n",
    "\n",
    "    i=i+1"
   ]
  },
  {
   "cell_type": "code",
   "execution_count": null,
   "id": "9d780276",
   "metadata": {},
   "outputs": [],
   "source": []
  }
 ],
 "metadata": {
  "kernelspec": {
   "display_name": "Python 3 (ipykernel)",
   "language": "python",
   "name": "python3"
  },
  "language_info": {
   "codemirror_mode": {
    "name": "ipython",
    "version": 3
   },
   "file_extension": ".py",
   "mimetype": "text/x-python",
   "name": "python",
   "nbconvert_exporter": "python",
   "pygments_lexer": "ipython3",
   "version": "3.9.7"
  }
 },
 "nbformat": 4,
 "nbformat_minor": 5
}
